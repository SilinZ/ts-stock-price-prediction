{
 "cells": [
  {
   "metadata": {},
   "cell_type": "markdown",
   "source": [
    "## Get the 5-minute data\n",
    "\n",
    "You can use the `APPL_5min_60days.csv` file directly. It includes the 5-minute prices and volumes between 2024-11-25 and 2025-02-24, which is 4608 rows in total. "
   ],
   "id": "c57ca552e6e20447"
  },
  {
   "cell_type": "code",
   "id": "initial_id",
   "metadata": {
    "collapsed": true,
    "ExecuteTime": {
     "end_time": "2025-02-25T03:25:52.135494Z",
     "start_time": "2025-02-25T03:25:51.649548Z"
    }
   },
   "source": [
    "# import yfinance as yf\n",
    "# data = yf.download(\"AAPL\", interval=\"5m\", period=\"60d\") \n",
    "# print(data.head())\n",
    "# data.to_csv(\"AAPL_5min_60days.csv\")"
   ],
   "outputs": [
    {
     "name": "stderr",
     "output_type": "stream",
     "text": [
      "[*********************100%***********************]  1 of 1 completed"
     ]
    },
    {
     "name": "stdout",
     "output_type": "stream",
     "text": [
      "Price                           Close        High         Low        Open  \\\n",
      "Ticker                           AAPL        AAPL        AAPL        AAPL   \n",
      "Datetime                                                                    \n",
      "2024-11-25 14:30:00+00:00  232.320007  232.580002  231.419998  231.839996   \n",
      "2024-11-25 14:35:00+00:00  232.683899  232.820007  232.199997  232.315002   \n",
      "2024-11-25 14:40:00+00:00  233.139999  233.149994  232.419998  232.679993   \n",
      "2024-11-25 14:45:00+00:00  232.690002  233.184998  232.625793  232.940002   \n",
      "2024-11-25 14:50:00+00:00  232.401993  232.759995  231.990005  232.695007   \n",
      "\n",
      "Price                       Volume  \n",
      "Ticker                        AAPL  \n",
      "Datetime                            \n",
      "2024-11-25 14:30:00+00:00  3645145  \n",
      "2024-11-25 14:35:00+00:00  1107931  \n",
      "2024-11-25 14:40:00+00:00   984043  \n",
      "2024-11-25 14:45:00+00:00   549490  \n",
      "2024-11-25 14:50:00+00:00   676341  \n"
     ]
    },
    {
     "name": "stderr",
     "output_type": "stream",
     "text": [
      "\n"
     ]
    }
   ],
   "execution_count": 2
  }
 ],
 "metadata": {
  "kernelspec": {
   "display_name": "Python 3",
   "language": "python",
   "name": "python3"
  },
  "language_info": {
   "codemirror_mode": {
    "name": "ipython",
    "version": 2
   },
   "file_extension": ".py",
   "mimetype": "text/x-python",
   "name": "python",
   "nbconvert_exporter": "python",
   "pygments_lexer": "ipython2",
   "version": "2.7.6"
  }
 },
 "nbformat": 4,
 "nbformat_minor": 5
}
